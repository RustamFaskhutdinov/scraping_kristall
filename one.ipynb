{
 "cells": [
  {
   "cell_type": "markdown",
   "source": [
    "# Parsing testing"
   ],
   "metadata": {
    "collapsed": false
   }
  },
  {
   "cell_type": "code",
   "execution_count": 1,
   "metadata": {
    "collapsed": true,
    "pycharm": {
     "name": "#%%\n"
    }
   },
   "outputs": [],
   "source": [
    "url = 'http://kristall.by/catalog/goods_loader?cat_id=2&offset=40&limit=20&'"
   ]
  },
  {
   "cell_type": "code",
   "execution_count": 2,
   "outputs": [],
   "source": [
    "begin = 0\n",
    "lenght = 5"
   ],
   "metadata": {
    "collapsed": false,
    "pycharm": {
     "name": "#%%\n"
    }
   }
  },
  {
   "cell_type": "code",
   "execution_count": 3,
   "outputs": [
    {
     "data": {
      "text/plain": "'http://kristall.by/catalog/goods_loader?cat_id=2&offset=0&limit=5&'"
     },
     "execution_count": 3,
     "metadata": {},
     "output_type": "execute_result"
    }
   ],
   "source": [
    "url = url.replace(\"offset=40\", f\"offset={begin}\")\n",
    "url = url.replace(\"limit=20\", f\"limit={lenght}\")\n",
    "\n",
    "url"
   ],
   "metadata": {
    "collapsed": false,
    "pycharm": {
     "name": "#%%\n"
    }
   }
  },
  {
   "cell_type": "code",
   "execution_count": 4,
   "outputs": [
    {
     "data": {
      "text/plain": "'http://kristall.by/product/kolco-k321'"
     },
     "execution_count": 4,
     "metadata": {},
     "output_type": "execute_result"
    }
   ],
   "source": [
    "import requests\n",
    "from bs4 import BeautifulSoup\n",
    "\n",
    "\n",
    "request = requests.get(url)\n",
    "soup = BeautifulSoup(request.text, features='html.parser')\n",
    "a_tegs = soup.find_all('a')\n",
    "link = f\"http://kristall.by{a_tegs[1].get('href')}\"\n",
    "link"
   ],
   "metadata": {
    "collapsed": false,
    "pycharm": {
     "name": "#%%\n"
    }
   }
  },
  {
   "cell_type": "markdown",
   "source": [
    "*Поменяем ссылку на*\n",
    "http://kristall.by/product/kolco-j516"
   ],
   "metadata": {
    "collapsed": false,
    "pycharm": {
     "name": "#%% md\n"
    }
   }
  },
  {
   "cell_type": "code",
   "execution_count": 5,
   "outputs": [],
   "source": [
    "link = 'http://kristall.by/product/kolcod841'\n",
    "r2 =requests.get(link)\n",
    "s2 = BeautifulSoup(r2.text, features='html.parser')"
   ],
   "metadata": {
    "collapsed": false,
    "pycharm": {
     "name": "#%%\n"
    }
   }
  },
  {
   "cell_type": "code",
   "execution_count": 6,
   "outputs": [
    {
     "data": {
      "text/plain": "[<div class=\"text-description\">\n <span class=\"bold\">Описание:</span>\n <div class=\"opisanie\"></div>\n </div>,\n <div class=\"text-description\">\n <div class=\"line-text\"><b>Металл</b>: Золото</div><div class=\"line-text\"><b>Цвет металла</b>: Красное золото</div><div class=\"line-text\"><b>Вставка</b>: Бриллиант</div><div class=\"line-text\"><b>Вес:</b> 0,84 г. </div><div class=\"line-text\"><b>Размер:</b> 15,0-19,5 </div><div class=\"line-text\"><b>Код изделия:</b> 4124.4197.00 </div> </div>]"
     },
     "execution_count": 6,
     "metadata": {},
     "output_type": "execute_result"
    }
   ],
   "source": [
    "d = s2.find_all('div', 'text-description')\n",
    "d\n",
    "# s2.find_next('div')"
   ],
   "metadata": {
    "collapsed": false,
    "pycharm": {
     "name": "#%%\n"
    }
   }
  },
  {
   "cell_type": "code",
   "execution_count": 7,
   "outputs": [
    {
     "data": {
      "text/plain": "'<b>Описание:</b><br>'"
     },
     "execution_count": 7,
     "metadata": {},
     "output_type": "execute_result"
    }
   ],
   "source": [
    "desc1 = f\"<b>{d[0].get_text().split()[0]}</b><br>\"+\" \".join(d[0].get_text().split()[1:])\n",
    "desc1"
   ],
   "metadata": {
    "collapsed": false,
    "pycharm": {
     "name": "#%%\n"
    }
   }
  },
  {
   "cell_type": "code",
   "execution_count": 8,
   "outputs": [
    {
     "data": {
      "text/plain": "[<div class=\"line-text\"><b>Металл</b>: Золото</div>,\n <div class=\"line-text\"><b>Цвет металла</b>: Красное золото</div>,\n <div class=\"line-text\"><b>Вставка</b>: Бриллиант</div>,\n <div class=\"line-text\"><b>Вес:</b> 0,84 г. </div>,\n <div class=\"line-text\"><b>Размер:</b> 15,0-19,5 </div>,\n <div class=\"line-text\"><b>Код изделия:</b> 4124.4197.00 </div>]"
     },
     "execution_count": 8,
     "metadata": {},
     "output_type": "execute_result"
    }
   ],
   "source": [
    "d2 = d[1].find_all('div', 'line-text')\n",
    "d2"
   ],
   "metadata": {
    "collapsed": false,
    "pycharm": {
     "name": "#%%\n"
    }
   }
  },
  {
   "cell_type": "code",
   "execution_count": 9,
   "outputs": [
    {
     "name": "stdout",
     "output_type": "stream",
     "text": [
      "<class 'str'>\t['Металл:', 'Золото']\n",
      "<class 'str'>\t['Цвет', 'металла:', 'Красное', 'золото']\n",
      "<class 'str'>\t['Вставка:', 'Бриллиант']\n",
      "<class 'str'>\t['Вес:', '0,84', 'г.']\n",
      "<class 'str'>\t['Размер:', '15,0-19,5']\n",
      "<class 'str'>\t['Код', 'изделия:', '4124.4197.00']\n"
     ]
    }
   ],
   "source": [
    "for line in d2:\n",
    "    print(type(line.text), end='\\t')\n",
    "    print(line.text.split())"
   ],
   "metadata": {
    "collapsed": false,
    "pycharm": {
     "name": "#%%\n"
    }
   }
  },
  {
   "cell_type": "code",
   "execution_count": 10,
   "outputs": [
    {
     "name": "stdout",
     "output_type": "stream",
     "text": [
      "['Золото']\n",
      "['Красное золото', None, None]\n",
      "['Бриллиант', None, None, None, None]\n",
      "0,84 г.\n",
      "<b>Размер:</b> 15,0-19,5\n",
      "<br>\n",
      "<b>Код</b> изделия: 4124.4197.00\n",
      "<br>\n"
     ]
    }
   ],
   "source": [
    "metal = color = insert = weight = None\n",
    "for line in d2:\n",
    "    p = line.text.split()\n",
    "    f = p[0]\n",
    "    if 'Металл' in f:\n",
    "        metal = p[1:]\n",
    "    elif 'Цвет' in f:\n",
    "        color = ' '.join(p[2:]).replace(', ', ',').split(',')\n",
    "        while len(color) < 3:\n",
    "            color.append(None)\n",
    "    elif 'Вставка' in f:\n",
    "        insert = ' '.join(p[1:]).replace(', ', ',').split(',')\n",
    "        while len(insert) < 5:\n",
    "            insert.append(None)\n",
    "    elif 'Вес' in f:\n",
    "        weight = ' '.join(p[1:])\n",
    "    elif 'Размер' in f:\n",
    "        size = f\"<b>{p[0]}</b> \"+\" \".join(p[1:])+'\\n<br>'\n",
    "    elif 'Код' in f:\n",
    "        code = f\"<b>{p[0]}</b> \"+\" \".join(p[1:])+'\\n<br>'\n",
    "print(metal)\n",
    "print(color)\n",
    "print(insert)\n",
    "print(weight)\n",
    "print(size)\n",
    "print(code)"
   ],
   "metadata": {
    "collapsed": false,
    "pycharm": {
     "name": "#%%\n"
    }
   }
  },
  {
   "cell_type": "code",
   "execution_count": 13,
   "outputs": [
    {
     "data": {
      "text/plain": "11"
     },
     "execution_count": 13,
     "metadata": {},
     "output_type": "execute_result"
    }
   ],
   "source": [
    "desc1 += size + code\n",
    "description = [metal[0], weight,\n",
    "               color[0], color[1], color[2],\n",
    "               insert[0], insert[1], insert[2], insert[3], insert[4],\n",
    "               desc1\n",
    "               ]\n",
    "len(description)"
   ],
   "metadata": {
    "collapsed": false,
    "pycharm": {
     "name": "#%%\n"
    }
   }
  },
  {
   "cell_type": "code",
   "execution_count": 13,
   "outputs": [],
   "source": [],
   "metadata": {
    "collapsed": false,
    "pycharm": {
     "name": "#%%\n"
    }
   }
  }
 ],
 "metadata": {
  "kernelspec": {
   "display_name": "Python 3",
   "language": "python",
   "name": "python3"
  },
  "language_info": {
   "codemirror_mode": {
    "name": "ipython",
    "version": 2
   },
   "file_extension": ".py",
   "mimetype": "text/x-python",
   "name": "python",
   "nbconvert_exporter": "python",
   "pygments_lexer": "ipython2",
   "version": "2.7.6"
  }
 },
 "nbformat": 4,
 "nbformat_minor": 0
}